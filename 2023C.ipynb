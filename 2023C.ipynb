{
 "cells": [
  {
   "cell_type": "code",
   "execution_count": null,
   "metadata": {},
   "outputs": [],
   "source": [
    "import pandas as pd\n",
    "\n",
    "# 读取两个 Excel 文件\n",
    "df1 = pd.read_excel(r'C:\\Users\\Administrator\\Desktop\\mathmaticModling\\附件1.xlsx')\n",
    "df2 = pd.read_excel(r'C:\\Users\\Administrator\\Desktop\\mathmaticModling\\附件2.xlsx')\n",
    "\n",
    "# 输出 df1 的前几行\n",
    "print(df1.head())"
   ]
  },
  {
   "cell_type": "code",
   "execution_count": null,
   "metadata": {},
   "outputs": [],
   "source": [
    "\n",
    "# 根据编号列 'ID' 合并两个数据框\n",
    "merged_df = pd.merge(df2, df1, on='单品编码', how='left')\n",
    "merged_df.to_excel('销售量.xlsx', index=False)\n"
   ]
  },
  {
   "cell_type": "code",
   "execution_count": null,
   "metadata": {},
   "outputs": [],
   "source": [
    "import pandas as pd\n",
    "# 根据编号列 'ID' 合并两个数据框\n",
    "df1 = pd.read_excel(r'C:\\Users\\Administrator\\Desktop\\mathmaticModling\\附件1.xlsx')\n",
    "df3 = pd.read_excel(r'C:\\Users\\Administrator\\Desktop\\mathmaticModling\\附件3.xlsx')\n",
    "merged_df = pd.merge(df3, df1, on='单品编码', how='left')\n",
    "merged_df.to_excel('批发价格.xlsx', index=False)\n"
   ]
  }
 ],
 "metadata": {
  "kernelspec": {
   "display_name": "base",
   "language": "python",
   "name": "python3"
  },
  "language_info": {
   "codemirror_mode": {
    "name": "ipython",
    "version": 3
   },
   "file_extension": ".py",
   "mimetype": "text/x-python",
   "name": "python",
   "nbconvert_exporter": "python",
   "pygments_lexer": "ipython3",
   "version": "3.11.7"
  }
 },
 "nbformat": 4,
 "nbformat_minor": 2
}
