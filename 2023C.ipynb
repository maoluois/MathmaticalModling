{
 "cells": [
  {
   "cell_type": "code",
   "execution_count": 5,
   "metadata": {},
   "outputs": [
    {
     "name": "stdout",
     "output_type": "stream",
     "text": [
      "              单品编码    单品名称        分类编码 分类名称\n",
      "0  102900005115168    牛首生菜  1011010101  花叶类\n",
      "1  102900005115199   四川红香椿  1011010101  花叶类\n",
      "2  102900005115625  本地小毛白菜  1011010101  花叶类\n",
      "3  102900005115748     白菜苔  1011010101  花叶类\n",
      "4  102900005115762      苋菜  1011010101  花叶类\n"
     ]
    }
   ],
   "source": [
    "import pandas as pd\n",
    "\n",
    "# 读取两个 Excel 文件\n",
    "df1 = pd.read_excel(r'D:\\ProgramData\\pythonProject\\mathmaticModling\\附件1.xlsx')\n",
    "df2 = pd.read_excel(r'D:\\ProgramData\\pythonProject\\mathmaticModling\\附件2.xlsx')\n",
    "# 输出 df1 的前几行\n",
    "print(df1.head())"
   ]
  },
  {
   "cell_type": "code",
   "execution_count": 6,
   "metadata": {},
   "outputs": [],
   "source": [
    "\n",
    "# 根据编号列 'ID' 合并两个数据框\n",
    "merged_df = pd.merge(df2, df1, on='单品编码', how='left')\n",
    "\n",
    "# 将合并后的数据框保存到新的 Excel 文件中\n",
    "merged_df.to_excel('merged_file.xlsx', index=False)"
   ]
  }
 ],
 "metadata": {
  "kernelspec": {
   "display_name": "base",
   "language": "python",
   "name": "python3"
  },
  "language_info": {
   "codemirror_mode": {
    "name": "ipython",
    "version": 3
   },
   "file_extension": ".py",
   "mimetype": "text/x-python",
   "name": "python",
   "nbconvert_exporter": "python",
   "pygments_lexer": "ipython3",
   "version": "3.9.13"
  }
 },
 "nbformat": 4,
 "nbformat_minor": 2
}
