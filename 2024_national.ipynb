{
 "cells": [
  {
   "cell_type": "markdown",
   "metadata": {},
   "source": [
    "## 层次分析法"
   ]
  },
  {
   "cell_type": "markdown",
   "metadata": {},
   "source": [
    "#### 1、 一致性检验"
   ]
  },
  {
   "cell_type": "code",
   "execution_count": 1,
   "metadata": {},
   "outputs": [
    {
     "name": "stdout",
     "output_type": "stream",
     "text": [
      "CI =  (0.037610012730716846+0j)\n",
      "RI =  0.9\n",
      "CR =  (0.04178890303412983+0j)\n",
      "矩阵A的一致性检验通过\n"
     ]
    }
   ],
   "source": [
    "import numpy as np\n",
    "# 生成一个4*4的矩阵\n",
    "A = np.array([[1, 2, 3, 5], [1/2, 1, 1/2, 2],[1/3, 2, 1, 2], [1/5, 1/2, 1/2, 1]])\n",
    "n = A.shape[0] # 获取矩阵的行数\n",
    "\n",
    "# 计算最大特征值和特征向量\n",
    "eig_val, eig_vec = np.linalg.eig(A)\n",
    "Max_eig = max(eig_val)\n",
    "\n",
    "# 计算一致性指标CI和随机一致性指标RI\n",
    "CI = (Max_eig - n) / (n - 1)\n",
    "RI = [0, 0.0001, 0.52, 0.89, 1.12, 1.26, 1.36, 1.41, 1.46, 1.49, 1.52, 1.54, 1.56, 1.58, 1.59]\n",
    "\n",
    "# 计算一致性比CR\n",
    "CR = CI / RI[n-1]\n",
    "\n",
    "print(\"CI = \", CI)\n",
    "print(\"RI = \", RI[n-1])\n",
    "\n",
    "if CR < 0.1:\n",
    "    print(\"CR = \", CR)\n",
    "    print(\"矩阵A的一致性检验通过\")\n",
    "else:   \n",
    "    print(\"CR = \", CR)\n",
    "    print(\"矩阵A的一致性检验未通过\")\n"
   ]
  },
  {
   "cell_type": "markdown",
   "metadata": {},
   "source": [
    "#### 2、 算术平均法求权重"
   ]
  },
  {
   "cell_type": "code",
   "execution_count": 4,
   "metadata": {},
   "outputs": [
    {
     "name": "stdout",
     "output_type": "stream",
     "text": [
      "权重为： [0.48885991 0.18192996 0.2318927  0.09731744]\n"
     ]
    }
   ],
   "source": [
    "import numpy as np\n",
    "\n",
    "A = np.array([[1, 2, 3, 5], [1/2, 1, 1/2, 2],[1/3, 2, 1, 2], [1/5, 1/2, 1/2, 1]])\n",
    "# 计算矩阵A每一列的和\n",
    "Asum = np.sum(A, axis=0)\n",
    "\n",
    "# 计算标准化矩阵\n",
    "n = A.shape[0]\n",
    "Stand_A =  A / Asum\n",
    "\n",
    "# 计算标准化矩阵每一行的和\n",
    "Asumr = np.sum(Stand_A, axis=1)\n",
    "\n",
    "# 计算权重\n",
    "weight = Asumr / n\n",
    "\n",
    "print(\"权重为：\", weight)"
   ]
  },
  {
   "cell_type": "markdown",
   "metadata": {},
   "source": [
    "#### 3、 几何平均法求求权重\n"
   ]
  },
  {
   "cell_type": "code",
   "execution_count": 6,
   "metadata": {},
   "outputs": [
    {
     "data": {
      "text/plain": [
       "array([30.        ,  0.5       ,  1.33333333,  0.05      ])"
      ]
     },
     "execution_count": 6,
     "metadata": {},
     "output_type": "execute_result"
    }
   ],
   "source": [
    "import numpy as np\n",
    "\n",
    "A = np.array([[1, 2, 3, 5], [1/2, 1, 1/2, 2],[1/3, 2, 1, 2], [1/5, 1/2, 1/2, 1]])\n",
    "\n",
    "n = A.shape[0]\n",
    "\n",
    "# 计算矩阵A每一列的乘积\n",
    "prod_a = np.prod(A, axis=1)\n",
    "\n",
    "# 计算几何平均值\n",
    "prod_n_A = np.power(prod_a, 1/n)\n",
    "\n",
    "# 归一化处理\n",
    "re_prod_A = prod_n_A / np.sum(prod_n_A, axis=0)\n",
    "\n",
    "# 计算权重\n",
    "print(\"权重为：\", re_prod_A)\n"
   ]
  },
  {
   "cell_type": "markdown",
   "metadata": {},
   "source": [
    "#### 4、 特征法求权重"
   ]
  },
  {
   "cell_type": "code",
   "execution_count": 7,
   "metadata": {},
   "outputs": [
    {
     "name": "stdout",
     "output_type": "stream",
     "text": [
      "权重为： [0.4933895 +0.j 0.17884562+0.j 0.230339  +0.j 0.09742588+0.j]\n"
     ]
    }
   ],
   "source": [
    "import numpy as np\n",
    "\n",
    "A = np.array([[1, 2, 3, 5], [1/2, 1, 1/2, 2],[1/3, 2, 1, 2], [1/5, 1/2, 1/2, 1]])\n",
    "\n",
    "n = A.shape[0]\n",
    "\n",
    "# 求出特征值和特征向量\n",
    "eig_val, eig_vec = np.linalg.eig(A)\n",
    "\n",
    "# 求出最大特征值的索引\n",
    "max_index = np.argmax(eig_val)\n",
    "\n",
    "# 找出对应的特征向量\n",
    "max_vector = eig_vec[:, max_index]\n",
    "\n",
    "# 归一化处理\n",
    "weight = max_vector / np.sum(max_vector)\n",
    "\n",
    "# 输出权重 \n",
    "print(\"权重为：\", weight)"
   ]
  },
  {
   "cell_type": "markdown",
   "metadata": {},
   "source": [
    "## TOPSIS法"
   ]
  },
  {
   "cell_type": "code",
   "execution_count": 11,
   "metadata": {},
   "outputs": [
    {
     "name": "stdout",
     "output_type": "stream",
     "text": [
      "请输入参评数目\n",
      "请输入指标数目\n",
      "请输入类型矩阵, 1:极大型, 2:极小型, 3:中间型, 4:区间型\n",
      "请输入矩阵：\n",
      "输入矩阵为：\n",
      "[[  9.  10. 175. 120.]\n",
      " [  8.   7. 164.  80.]\n",
      " [  6.   3. 157.  90.]]\n",
      "类型三, 请输入最佳值：\n",
      "类型四, 请输入区间[a, b]值a:\n",
      "类型四, 请输入区间[a, b]值b:\n",
      "统一指标后的矩阵为：\n",
      "[[9.  0.  0.  0. ]\n",
      " [8.  3.  0.9 0.5]\n",
      " [6.  7.  0.2 1. ]]\n",
      "标准化矩阵为：\n",
      "[[0.66896473 0.         0.         0.        ]\n",
      " [0.59463532 0.3939193  0.97618706 0.4472136 ]\n",
      " [0.44597649 0.91914503 0.21693046 0.89442719]]\n",
      "每个指标的最大值[0.66896473 0.91914503 0.97618706 0.89442719]\n",
      "每个指标的最小值[0.44597649 0.         0.         0.        ]\n",
      "到最大值的距离[1.61175952 0.69382053 0.79132442]\n",
      "到最小值的距离[0.22298824 1.15334862 1.30072534]\n",
      "第1个方案的得分为8.886366735657832\n",
      "第2个方案的得分为45.653341055701134\n",
      "第3个方案的得分为45.46029220864103\n"
     ]
    }
   ],
   "source": [
    "import numpy as np\n",
    "\n",
    "print(\"请输入参评数目\")\n",
    "n = int(input())\n",
    "print(\"请输入指标数目\")\n",
    "m = int(input())\n",
    "\n",
    "print('请输入类型矩阵, 1:极大型, 2:极小型, 3:中间型, 4:区间型')\n",
    "kind = input().split(\" \")\n",
    "\n",
    "print(\"请输入矩阵：\")\n",
    "A = np.zeros(shape=(n, m)) # 初始化一个n*m的矩阵\n",
    "\n",
    "for i in range(n):\n",
    "    A[i] = input().split(\" \") # 接受每行输入的数据\n",
    "    A[i] = list(map(float, A[i])) # 将输入的数据转换为浮点数\n",
    "print(f\"输入矩阵为：\\n{A}\") # 输出输入的矩阵\n",
    "\n",
    "def min2max(maxx, x):\n",
    "    x = list(x)\n",
    "    ans = [(maxx - e) for e in x] # 使用数组形式存储是由于下面有合并操作\n",
    "    return np.array(ans)\n",
    "\n",
    "def mid2max(bestx, x):\n",
    "    x = list(x)\n",
    "    h = [abs(e - bestx) for e in x] \n",
    "    M = max(h)\n",
    "    if M == 0:\n",
    "        M = 1\n",
    "    ans = [[1 - e/M]  for e in h]\n",
    "    return np.array(ans) \n",
    "\n",
    "def reg2max(lowx, highx, x):\n",
    "    \n",
    "    x = list(x)\n",
    "    M = max(lowx - min(x), max(x) - highx)\n",
    "    if M == 0:\n",
    "        M = 1\n",
    "\n",
    "    ans = []\n",
    "    for i in range(len(x)):\n",
    "        if x[i] < lowx:\n",
    "            ans.append([1 - (lowx - x[i]) / M])\n",
    "        elif x[i] > highx:\n",
    "            ans.append([1 - (x[i] - highx) / M])\n",
    "        else:\n",
    "            ans.append([1])\n",
    "            \n",
    "    return np.array(ans)\n",
    "\n",
    "X = np.zeros(shape=(n, 1))\n",
    "for i in range(m):\n",
    "    \n",
    "    if kind[i] == '1':\n",
    "        v = np.array(A[:, i])\n",
    "    \n",
    "    elif kind[i] == '2':\n",
    "        maxA = max(A[:, i])\n",
    "        v = min2max(maxA, A[:, i])\n",
    "    \n",
    "    elif kind[i] == '3':\n",
    "        print(\"类型三, 请输入最佳值：\")\n",
    "        bestA = eval(input())\n",
    "        v = mid2max(bestA, A[:, i])\n",
    "    \n",
    "    elif kind[i] == '4':\n",
    "        print(\"类型四, 请输入区间[a, b]值a:\")\n",
    "        lowA = eval(input())\n",
    "        print(\"类型四, 请输入区间[a, b]值b:\")\n",
    "        highA = eval(input())\n",
    "        v = reg2max(lowA, highA, A[:, i])\n",
    "        \n",
    "    if i == 0:\n",
    "        X = v.reshape(-1, 1)\n",
    "    else:\n",
    "        X = np.hstack([X, v.reshape(-1, 1)]) # 横向合并\n",
    "\n",
    "print(f\"统一指标后的矩阵为：\\n{X}\")\n",
    "\n",
    "X = X.astype('float')\n",
    "for j in range(m):\n",
    "    X[:, j] = X[:, j] / np.sqrt(sum(X[:, j]**2))\n",
    "\n",
    "print(f\"标准化矩阵为：\\n{X}\")\n",
    "\n",
    "x_max = np.max(X, axis=0)\n",
    "x_min = np.min(X, axis=0)\n",
    "\n",
    "# 计算距离 m维空间中两点之间的距离 n代表方案数\n",
    "d_z = np.sqrt(np.sum(np.square((X - np.tile(x_max, (n, 1)))), axis=1))\n",
    "d_f = np.sqrt(np.sum(np.square((X - np.tile(x_min, (n, 1)))), axis=1))\n",
    "\n",
    "print(f\"每个指标的最大值{x_max}\")\n",
    "print(f\"每个指标的最小值{x_min}\")\n",
    "print(f\"到最大值的距离{d_z}\")\n",
    "print(f\"到最小值的距离{d_f}\")\n",
    "\n",
    "s = d_f / (d_f + d_z) # 计算综合得分\n",
    "Score = 100 * s / sum(s) # 计算综合得分百分比\n",
    "for i in range(len(Score)):\n",
    "    print(f\"第{i+1}个方案的得分为{Score[i]}\") "
   ]
  },
  {
   "cell_type": "markdown",
   "metadata": {},
   "source": [
    "## 熵权法"
   ]
  },
  {
   "cell_type": "code",
   "execution_count": 3,
   "metadata": {},
   "outputs": [
    {
     "name": "stdout",
     "output_type": "stream",
     "text": [
      "标准化矩阵 Z = \n",
      "[[0.66896473 0.         0.         0.        ]\n",
      " [0.59463532 0.3939193  0.97618706 0.4472136 ]\n",
      " [0.44597649 0.91914503 0.21693046 0.89442719]]\n",
      "权重 W = [0.00856537 0.30716152 0.39326471 0.2910084 ]\n"
     ]
    }
   ],
   "source": [
    "import numpy as np\n",
    "def mylog(p): # 自定义log函数，避免log(0)的情况\n",
    "    n = len(p)\n",
    "    lnp = np.zeros(n)\n",
    "    for i in range(n):\n",
    "        if p[i] == 0:\n",
    "            lnp[i] = 0\n",
    "        else:\n",
    "            lnp[i] = np.log(p[i])\n",
    "    return lnp \n",
    "\n",
    "\n",
    "X = np.array([[9, 0, 0, 0], [8, 3, 0.9, 0.5], [6, 7, 0.2, 1]])\n",
    "\n",
    "# 进行标准化处理 \n",
    "Z = X / np.sqrt(np.sum(X**2, axis=0))\n",
    "\n",
    "print(f\"标准化矩阵 Z = \\n{Z}\")\n",
    "\n",
    "n, m = Z.shape # 获取矩阵的行数和列数\n",
    "D = np.zeros(m) # 用于保存每个指标的信息效用值\n",
    "\n",
    "for i in range(m):\n",
    "    x = Z[:, i] # 获取第i列的数据\n",
    "    p = x / np.sum(x)  # 对第i个指标进行归一化处理得到概率分布\n",
    "\n",
    "    e = -np.sum(p * mylog(p)) / np.log(n) # 计算信息熵\n",
    "    D[i] = 1 - e # 计算信息效用值 信息熵越大，信息效用值越小 全部数据一样时，信息熵为1\n",
    "\n",
    "W = D / np.sum(D) # 计算权重\n",
    "\n",
    "print(f\"权重 W = {W}\")\n",
    "\n"
   ]
  },
  {
   "cell_type": "markdown",
   "metadata": {},
   "source": [
    "## 模糊综合评价"
   ]
  },
  {
   "cell_type": "code",
   "execution_count": 13,
   "metadata": {},
   "outputs": [
    {
     "name": "stdout",
     "output_type": "stream",
     "text": [
      "[0.158  0.123  0.162  0.1935 0.173 ]\n",
      "[0.146375 0.141125 0.142125 0.167875 0.16725  0.213375]\n",
      "[0.1545 0.1445 0.1525 0.162  0.149  0.2375]\n",
      "[0.1534625 0.1348875 0.1531875 0.1763625 0.164075  0.1352625]\n"
     ]
    }
   ],
   "source": [
    "import numpy as np\n",
    "# 单因素评价系数由专家评分法或隶属函数得到\n",
    "# 一级模糊综合评价\n",
    "# 影响运行费用的各因素的单因素评价矩阵为 （隶属度的集合）\n",
    "R23 = np.array([\n",
    "    [0.18, 0.14, 0.18, 0.14, 0.13, 0.23],\n",
    "    [0.15, 0.20, 0.15, 0.25, 0.13, 0.15],\n",
    "    [0.25, 0.12, 0.13, 0.12, 0.18, 0.20],\n",
    "    [0.20, 0.13, 0.18, 0.17, 0.19, 0.13],\n",
    "    [0.22, 0.11, 0.12, 0.18, 0.13, 0.24],\n",
    "    [0.17, 0.16, 0.13, 0.25, 0.18, 0.11]\n",
    "])\n",
    "# 权重分配为\n",
    "A23 = np.array([0.20, 0.15, 0.10, 0.20, 0.15, 0.10])\n",
    "# 评价结果\n",
    "# np.dot()函数对于一维数组是点积，对于二维数组是矩阵乘法\n",
    "B23 = np.dot(A23, R23)\n",
    "\n",
    "# 2. 二级模糊综合评价\n",
    "# 产品情况的二级评价矩阵\n",
    "\n",
    "R1 = np.array([\n",
    "    [0.12, 0.18, 0.17, 0.23, 0.17],\n",
    "    [0.15, 0.10, 0.15, 0.20, 0.14],\n",
    "    [0.20, 0.12, 0.13, 0.18, 0.25],\n",
    "    [0.13, 0.13, 0.19, 0.16, 0.13],\n",
    "    [0.17, 0.13, 0.25, 0.18, 0.16]\n",
    "])\n",
    "\n",
    "A1 = np.array([0.15, 0.40, 0.25, 0.10, 0.10])\n",
    "\n",
    "B1 = np.dot(A1, R1)\n",
    "\n",
    "# 销售能力的二级评价矩阵\n",
    "R2 = np.array([\n",
    "    [0.13, 0.15, 0.14, 0.18, 0.16, 0.25],\n",
    "    [0.12, 0.16, 0.13, 0.17, 0.19, 0.23],\n",
    "    B23,\n",
    "    [0.14, 0.13, 0.15, 0.16, 0.18, 0.24],\n",
    "    [0.16, 0.15, 0.15, 0.17, 0.18, 0.19]\n",
    "])\n",
    "\n",
    "A2 = np.array([0.2, 0.15, 0.25, 0.25, 0.15])\n",
    "B2 = np.dot(A2, R2)\n",
    "\n",
    "# 市场需求的二级评判\n",
    "R3 = np.array([\n",
    "    [0.15, 0.14, 0.13, 0.18, 0.14, 0.26],\n",
    "    [0.16, 0.15, 0.18, 0.14, 0.16, 0.21]\n",
    "])\n",
    "A3 = np.array([0.55, 0.45])\n",
    "B3 = np.dot(A3, R3)\n",
    "\n",
    "print(B1)\n",
    "print(B2)\n",
    "print(B3)\n",
    "\n",
    "# 三级模糊综合评判\n",
    "import numpy as np\n",
    "# 获取最大长度\n",
    "max_len = max(len(B1), len(B2), len(B3))\n",
    "\n",
    "# 使用 `np.pad` 将所有数组填充到相同的长度\n",
    "B1_padded = np.pad(B1, (0, max_len - len(B1)), 'constant')\n",
    "B2_padded = np.pad(B2, (0, max_len - len(B2)), 'constant')\n",
    "B3_padded = np.pad(B3, (0, max_len - len(B3)), 'constant')\n",
    "\n",
    "# 计算加权平均\n",
    "R = np.array([B1_padded, B2_padded, B3_padded])\n",
    "A = np.array([0.4, 0.3, 0.3])\n",
    "weighted_sum = np.dot(A, R)\n",
    "print(weighted_sum)\n",
    "\n"
   ]
  },
  {
   "cell_type": "markdown",
   "metadata": {},
   "source": [
    "## 灰色关联分析"
   ]
  },
  {
   "cell_type": "code",
   "execution_count": null,
   "metadata": {},
   "outputs": [],
   "source": [
    "# 请输入初始矩阵[[55, 24, 10, ]]"
   ]
  }
 ],
 "metadata": {
  "kernelspec": {
   "display_name": "base",
   "language": "python",
   "name": "python3"
  },
  "language_info": {
   "codemirror_mode": {
    "name": "ipython",
    "version": 3
   },
   "file_extension": ".py",
   "mimetype": "text/x-python",
   "name": "python",
   "nbconvert_exporter": "python",
   "pygments_lexer": "ipython3",
   "version": "3.11.7"
  }
 },
 "nbformat": 4,
 "nbformat_minor": 2
}
