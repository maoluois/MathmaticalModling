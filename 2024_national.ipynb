{
 "cells": [
  {
   "cell_type": "markdown",
   "metadata": {},
   "source": [
    "## 层次分析法"
   ]
  },
  {
   "cell_type": "markdown",
   "metadata": {},
   "source": [
    "#### 一致性检验"
   ]
  },
  {
   "cell_type": "code",
   "execution_count": 1,
   "metadata": {},
   "outputs": [],
   "source": [
    "import numpy as np\n",
    "# 生成一个4*4的矩阵\n",
    "A = np.array([[1, 2, 3, 5], [1/2, 1, 1/2, 2],[1/3, 2, 1, 2], [1/5, 1/2, 1/2, 1]])\n",
    "n = A.shape[0] # 获取矩阵的行数\n",
    "\n",
    "# 计算最大特征值和特征向量\n",
    "eig_val, eig_vec = np.linalg.eig(A)\n",
    "Max_eig = max(eig_val)\n",
    "\n",
    "CI = (Max_eig - n) / (n - 1)\n",
    "RI = [0, 0, 0.58, 0.90, 1.12, 1.24, 1.32, 1.41, 1.45, 1.49]\n",
    "\n",
    "CR = CI / RI[n-1]\n",
    "\n",
    "print(\"CI = \", CI)\n",
    "print(\"RI = \", RI[n-1])\n",
    "\n",
    "if CR < 0.1:\n",
    "    print(\"CR = \", CR)\n",
    "    print(\"矩阵A的一致性检验通过\")\n",
    "else:   \n",
    "    print(\"CR = \", CR)\n",
    "    print(\"矩阵A的一致性检验未通过\")\n"
   ]
  },
  {
   "cell_type": "code",
   "execution_count": 1,
   "metadata": {},
   "outputs": [
    {
     "name": "stdout",
     "output_type": "stream",
     "text": [
      "0\n",
      "1\n",
      "2\n",
      "3\n",
      "4\n"
     ]
    }
   ],
   "source": [
    "for i in range(5):\n",
    "    print(i)"
   ]
  }
 ],
 "metadata": {
  "kernelspec": {
   "display_name": "base",
   "language": "python",
   "name": "python3"
  },
  "language_info": {
   "codemirror_mode": {
    "name": "ipython",
    "version": 3
   },
   "file_extension": ".py",
   "mimetype": "text/x-python",
   "name": "python",
   "nbconvert_exporter": "python",
   "pygments_lexer": "ipython3",
   "version": "3.9.13"
  }
 },
 "nbformat": 4,
 "nbformat_minor": 2
}
